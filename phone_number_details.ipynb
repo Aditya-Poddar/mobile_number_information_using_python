{
 "cells": [
  {
   "cell_type": "code",
   "execution_count": 1,
   "id": "02ce7db2",
   "metadata": {},
   "outputs": [
    {
     "name": "stdout",
     "output_type": "stream",
     "text": [
      "Defaulting to user installation because normal site-packages is not writeable\n",
      "Collecting phonenumbers\n",
      "  Downloading phonenumbers-8.12.38-py2.py3-none-any.whl (2.6 MB)\n",
      "     |████████████████████████████████| 2.6 MB 1.5 MB/s            \n",
      "\u001b[?25hInstalling collected packages: phonenumbers\n",
      "Successfully installed phonenumbers-8.12.38\n"
     ]
    }
   ],
   "source": [
    "!pip install phonenumbers"
   ]
  },
  {
   "cell_type": "code",
   "execution_count": 2,
   "id": "ca1718ab",
   "metadata": {},
   "outputs": [],
   "source": [
    "import phonenumbers"
   ]
  },
  {
   "cell_type": "code",
   "execution_count": 8,
   "id": "0985b4d6",
   "metadata": {},
   "outputs": [
    {
     "name": "stdout",
     "output_type": "stream",
     "text": [
      "Enter your mobile number with +_ _ : +91 7979890002\n",
      "Country Code: 91 National Number: 7979890002\n",
      "('Asia/Calcutta',)\n",
      "Reliance Jio\n",
      "Ahmedabad Local, Gujarat\n"
     ]
    }
   ],
   "source": [
    "from phonenumbers import timezone,geocoder,carrier\n",
    "number = input(\"Enter your mobile number with +_ _ : \")\n",
    "phone = phonenumbers.parse(number)\n",
    "time = timezone.time_zones_for_number(phone)\n",
    "car = carrier.name_for_number(phone,\"en\")\n",
    "reg = geocoder.description_for_number(phone,\"en\")\n",
    "print(phone)\n",
    "print(time)\n",
    "print(car)\n",
    "print(reg)"
   ]
  },
  {
   "cell_type": "code",
   "execution_count": null,
   "id": "9c8192ba",
   "metadata": {},
   "outputs": [],
   "source": []
  }
 ],
 "metadata": {
  "kernelspec": {
   "display_name": "Python 3 (ipykernel)",
   "language": "python",
   "name": "python3"
  },
  "language_info": {
   "codemirror_mode": {
    "name": "ipython",
    "version": 3
   },
   "file_extension": ".py",
   "mimetype": "text/x-python",
   "name": "python",
   "nbconvert_exporter": "python",
   "pygments_lexer": "ipython3",
   "version": "3.8.10"
  }
 },
 "nbformat": 4,
 "nbformat_minor": 5
}
